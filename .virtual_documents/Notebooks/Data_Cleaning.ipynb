import pandas as pd
import numpy as np
import seaborn as sns
import matplotlib.pyplot as plt





#import data

whr_2024 = pd.read_csv("../Data/Raw/World-happiness-report-2024.csv")

whr_all = pd.read_csv("../Data/Raw/World-happiness-report-updated_2024.csv", encoding="latin1")  # or encoding="ISO-8859-1"


whr_all.head()


whr_all.info()


#check for missing values
whr_all.isnull().sum()


# Select numeric columns
numeric_cols = whr_all.select_dtypes(include=np.number).columns


# Fill NaN values in numeric columns with column means 
whr_all[numeric_cols] = whr_all[numeric_cols].fillna(whr_all[numeric_cols].mean())


whr_2024.head()


whr_2024.info()


#check for missing values
whr_2024.isnull().sum()


# Select numeric columns & replace missing values with mean of column for numeric col
numeric_cols = whr_2024.select_dtypes(include=np.number).columns
whr_2024[numeric_cols] = whr_2024[numeric_cols].fillna(whr_2024[numeric_cols].mean())


#add year column
whr_2024['year'] = 2024


#rename columns - remove spaces
whr_2024.rename(columns={
    "Country name":"Country",
    "Regional indicator":"Region",
    "Ladder score":"Happiness",
    "Log GDP per capita": "Log_GDP_Per_Capita",
    "Social support": "Social_Support",
    "Healthy life expectancy": "Life_Expectancy",
    "Freedom to make life choices": "Freedom",
    "Perceptions of corruption": "Corruption",
    "Dystopia + residual": "Dystopia_residual",
    "year": "Year"
}, inplace=True)


whr_all.rename(columns={
    "Country name":"Country",
    "Regional indicator":"Region",
    "Life Ladder":"Happiness",
    "Log GDP per capita": "Log_GDP_Per_Capita",
    "Social support": "Social_Support",
    "Healthy life expectancy at birth": "Life_Expectancy",
    "Freedom to make life choices": "Freedom",
    "Perceptions of corruption": "Corruption",
    "Dystopia + residual": "Dystopia_Residual",
    "year": "Year",
    "Positive affect" : "Positive_Affect",
    "Negative affect":"Negative_Affect"
}, inplace=True)


#check for differences in country names

set1 = set(whr_all['Country'])
set2 = set(whr_2024['Country'])

if set1 == set2:
    print("Both DataFrames have the same country names.")
else:
    print("Differences found:")
    print("Only in whr_all:", set1 - set2)
    print("Only in whr_2024:", set2 - set1)



# Replace 'Türkiye' with 'Turkiye'
whr_all['Country'] = whr_all['Country'].replace('Türkiye', 'Turkiye')



whr_all.to_csv("../Data/Clean/whr_hist_clean.csv")
whr_2024.to_csv("../Data/Clean/whr_2024_clean.csv")





awh = pd.read_csv("../Data/Raw/dataset1_avg_annual_hours_worked.csv")


awh.head()


awh.info()


#removing white spaces
awh.columns = awh.columns.str.replace(' ','_')


#removing unwanted columns
keep_cols = ['Reference_area', 'TIME_PERIOD','OBS_VALUE']

awh = awh.loc[:, keep_cols]


# Rename the columns
awh = awh.rename(columns={'Reference_area': 'Country', 'OBS_VALUE': 'Average_hours_worked', 'TIME_PERIOD': 'Year'})


#check for missing values
awh.isnull().sum()


awh['Year'].unique()


#check for differences in country names

set1 = set(awh['Country'])
set2 = set(whr_2024['Country'])

if set1 == set2:
    print("Both DataFrames have the same country names.")
else:
    print("Differences found:")
    print("Only in awh:", set1 - set2)
    print("Only in whr_2024:", set2 - set1)


#Update country names to match
awh['Country'] = awh['Country'].str.strip().replace({
    'Türkiye': 'Turkiye',
    'Korea': 'South Korea',
    'Slovak Republic': 'Slovakia'
})


awh.to_csv("../Data/Clean/avg_working_hours_clean.csv")





import pdfplumber

# Path to the uploaded PDF file
pdf_path = "../Data/Raw/State of the Global Workplace_ 2024 Report.pdf"

# Extract tables from the PDF
tables = []
with pdfplumber.open(pdf_path) as pdf:
    for page in pdf.pages:
        extracted_tables = page.extract_tables()
        for table in extracted_tables:
            tables.append(table)

# Convert extracted tables into DataFrame format
dataframes = []
for table in tables:
    df = pd.DataFrame(table)
    dataframes.append(df)

# Concatenate all tables into a single DataFrame
final_df = pd.concat(dataframes, ignore_index=True)

# Save as CSV
csv_path = "../Data/Raw/Employee_Engagement_Extracted"
final_df.to_csv(csv_path, index=False)

# Provide the CSV file for download
csv_path


job_satisfaction = pd.read_csv("../Data/Raw/Employee_Engagement_Merged.csv")


job_satisfaction.head()


#check for missing values
job_satisfaction.isnull().sum()


#check for differences in country names

set1 = set(job_satisfaction['Country'])
set2 = set(whr_2024['Country'])

if set1 == set2:
    print("Both DataFrames have the same country names.")
else:
    print("Differences found:")
    print("Only in job_satisfaction:", set1 - set2)
    print("Only in whr_2024:", set2 - set1)


#Update country names to match
job_satisfaction['Country'] = job_satisfaction['Country'].str.strip().replace({
    'Russian Federation': 'Russia',
    'Hong Kong SAR of China': 'Hong Kong S.A.R. of China',
    'Czech Republic': 'Czechia',
    'Republic of Moldova': 'Moldova',
    'Republic of the Congo' : 'Congo (Brazzaville)'
})


#remove duplicate misspelling
job_satisfaction = job_satisfaction[job_satisfaction['Country'] != 'Cambonia']


job_satisfaction.to_csv("../Data/Clean/job_satisfaction_clean.csv")



