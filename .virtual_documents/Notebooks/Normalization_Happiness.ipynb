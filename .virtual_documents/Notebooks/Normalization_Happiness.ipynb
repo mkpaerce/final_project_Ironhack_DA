import pandas as pd
import numpy as np
import seaborn as sns
import matplotlib.pyplot as plt


df = pd.read_csv("../Data/Raw/SQL_Happiness.csv")


# Separate 2024 data from previous years
df_2024 = df[df["Year"] == 2024]
df_other_years = df[df["Year"] != 2024]


# Calculate mean and standard deviation for previous years
mean_other_years = df_other_years["Log_GDP_Per_Capita"].mean()
std_other_years = df_other_years["Log_GDP_Per_Capita"].std()

# Standardize 2024 data using previous years' statistics
df.loc[df["Year"] == 2024, "Log_GDP_Per_Capita"] = (
    (df_2024["Log_GDP_Per_Capita"] - df_2024["Log_GDP_Per_Capita"].mean()) / df_2024["Log_GDP_Per_Capita"].std()
) * std_other_years + mean_other_years

# Verify the transformation by plotting the new distribution
plt.figure(figsize=(10,5))
plt.hist(df_other_years["Log_GDP_Per_Capita"], bins=30, alpha=0.5, label="Other Years")
plt.hist(df[df["Year"] == 2024]["Log_GDP_Per_Capita"], bins=30, alpha=0.5, label="2024 (Rescaled)")
plt.xlabel("Log_GDP_Per_Capita")
plt.ylabel("Frequency")
plt.title("Rescaled Distribution of Log_GDP_Per_Capita")
plt.legend()
plt.show()


# List of numerical columns to rescale
columns_to_rescale = [
    "Happiness",
    "Log_GDP_Per_Capita",
    "Social_Support",
    "Life_Expectancy",
    "Freedom",
    "Generosity",
    "Corruption"
]

# Rescale each column
for col in columns_to_rescale:
    # Compute mean and std for previous years
    mean_other_years = df_other_years[col].mean()
    std_other_years = df_other_years[col].std()

    # Standardize 2024 data using previous years' statistics
    df.loc[df["Year"] == 2024, col] = (
        (df_2024[col] - df_2024[col].mean()) / df_2024[col].std()
    ) * std_other_years + mean_other_years

    # Plot the new distribution
    plt.figure(figsize=(10, 5))
    plt.hist(df_other_years[col], bins=30, alpha=0.5, label="Other Years")
    plt.hist(df[df["Year"] == 2024][col], bins=30, alpha=0.5, label="2024 (Rescaled)")
    plt.xlabel(col)
    plt.ylabel("Frequency")
    plt.title(f"Rescaled Distribution of {col}")
    plt.legend()
    plt.show()



# Invert the corruption scores for 2024
df.loc[df["Year"] == 2024, "Corruption"] = 1 - df_2024["Corruption"]

# Plot the updated corruption score distribution
plt.figure(figsize=(10, 5))
plt.hist(df_other_years["Corruption"], bins=30, alpha=0.5, label="Other Years")
plt.hist(df[df["Year"] == 2024]["Corruption"], bins=30, alpha=0.5, label="2024 (Inverted)")
plt.xlabel("Corruption Score")
plt.ylabel("Frequency")
plt.title("Inverted Distribution of Corruption Scores (2024)")
plt.legend()
plt.show()


# Calculate mean and standard deviation for previous years' corruption scores
mean_other_years_corruption = df_other_years["Corruption"].mean()
std_other_years_corruption = df_other_years["Corruption"].std()

# Apply Z-score normalization to 2024 corruption scores
df.loc[df["Year"] == 2024, "Corruption"] = (
    (df[df["Year"] == 2024]["Corruption"] - df[df["Year"] == 2024]["Corruption"].mean()) / 
    df[df["Year"] == 2024]["Corruption"].std()
) * std_other_years_corruption + mean_other_years_corruption

# Plot the updated corruption score distribution
plt.figure(figsize=(10, 5))
plt.hist(df_other_years["Corruption"], bins=30, alpha=0.5, label="Other Years")
plt.hist(df[df["Year"] == 2024]["Corruption"], bins=30, alpha=0.5, label="2024 (Z-score Normalized)")
plt.xlabel("Corruption Score")
plt.ylabel("Frequency")
plt.title("Z-score Normalized Distribution of Corruption Scores (2024)")
plt.legend()
plt.show()



#Checking Denmark (125)
df[df['Country_ID'] == 125]


df.head()


#Saving file with proper coding for SQL
df.to_csv("../Data/Clean/SQL_data/Happiness_Combined_SQL.csv", index=False, sep=";", encoding="utf-8")


#Saving other files for SQL upload
df_js = pd.read_csv("../Data/Clean/SQL_data/Job_Satisfaction_SQL.csv")
df_js.to_csv("../Data/Clean/SQL_data/Job_Satisfaction_SQL.csv", index=False, sep=";", encoding="utf-8")


#Saving other files for SQL upload
df_wh = pd.read_csv("../Data/Clean/SQL_data/Work_Hours_SQL.csv")
df_wh.to_csv("../Data/Clean/SQL_data/Work_Hours_SQL.csv", index=False, sep=";", encoding="utf-8")


#Saving other files for SQL upload
df_ct = pd.read_csv("../Data/Clean/SQL_data/Country_SQL.csv")
df_ct.to_csv("../Data/Clean/SQL_data/Country_SQL.csv", index=False, sep=";", encoding="utf-8")



