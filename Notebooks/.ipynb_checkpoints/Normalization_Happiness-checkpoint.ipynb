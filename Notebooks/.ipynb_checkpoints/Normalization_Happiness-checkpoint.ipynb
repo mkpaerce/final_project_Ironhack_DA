{
 "cells": [
  {
   "cell_type": "code",
   "execution_count": null,
   "id": "75e48137-578f-4388-96af-c55682d2d406",
   "metadata": {},
   "outputs": [],
   "source": [
    "import pandas as pd\n",
    "import numpy as np\n",
    "import seaborn as sns\n",
    "import matplotlib.pyplot as plt"
   ]
  },
  {
   "cell_type": "code",
   "execution_count": null,
   "id": "bbd87a19-e1f6-4c66-a417-1e41ff67ce5b",
   "metadata": {},
   "outputs": [],
   "source": [
    "df = pd.read_csv(\"../Data/Raw/SQL_Happiness.csv\")"
   ]
  },
  {
   "cell_type": "code",
   "execution_count": null,
   "id": "9980cb93-b299-4842-bab6-6dac4944994b",
   "metadata": {},
   "outputs": [],
   "source": [
    "# Separate 2024 data from previous years\n",
    "df_2024 = df[df[\"Year\"] == 2024]\n",
    "df_other_years = df[df[\"Year\"] != 2024]"
   ]
  },
  {
   "cell_type": "code",
   "execution_count": null,
   "id": "f87cfab4-ecb0-4ed8-b97f-288b60f76464",
   "metadata": {},
   "outputs": [],
   "source": [
    "# Calculate mean and standard deviation for previous years\n",
    "mean_other_years = df_other_years[\"Log_GDP_Per_Capita\"].mean()\n",
    "std_other_years = df_other_years[\"Log_GDP_Per_Capita\"].std()\n",
    "\n",
    "# Standardize 2024 data using previous years' statistics\n",
    "df.loc[df[\"Year\"] == 2024, \"Log_GDP_Per_Capita\"] = (\n",
    "    (df_2024[\"Log_GDP_Per_Capita\"] - df_2024[\"Log_GDP_Per_Capita\"].mean()) / df_2024[\"Log_GDP_Per_Capita\"].std()\n",
    ") * std_other_years + mean_other_years\n",
    "\n",
    "# Verify the transformation by plotting the new distribution\n",
    "plt.figure(figsize=(10,5))\n",
    "plt.hist(df_other_years[\"Log_GDP_Per_Capita\"], bins=30, alpha=0.5, label=\"Other Years\")\n",
    "plt.hist(df[df[\"Year\"] == 2024][\"Log_GDP_Per_Capita\"], bins=30, alpha=0.5, label=\"2024 (Rescaled)\")\n",
    "plt.xlabel(\"Log_GDP_Per_Capita\")\n",
    "plt.ylabel(\"Frequency\")\n",
    "plt.title(\"Rescaled Distribution of Log_GDP_Per_Capita\")\n",
    "plt.legend()\n",
    "plt.show()"
   ]
  },
  {
   "cell_type": "code",
   "execution_count": null,
   "id": "7f3c9819-9b6b-45e1-a1b6-d42f1805fa0c",
   "metadata": {},
   "outputs": [],
   "source": [
    "# List of numerical columns to rescale\n",
    "columns_to_rescale = [\n",
    "    \"Happiness\",\n",
    "    \"Log_GDP_Per_Capita\",\n",
    "    \"Social_Support\",\n",
    "    \"Life_Expectancy\",\n",
    "    \"Freedom\",\n",
    "    \"Generosity\",\n",
    "    \"Corruption\"\n",
    "]\n",
    "\n",
    "# Rescale each column\n",
    "for col in columns_to_rescale:\n",
    "    # Compute mean and std for previous years\n",
    "    mean_other_years = df_other_years[col].mean()\n",
    "    std_other_years = df_other_years[col].std()\n",
    "\n",
    "    # Standardize 2024 data using previous years' statistics\n",
    "    df.loc[df[\"Year\"] == 2024, col] = (\n",
    "        (df_2024[col] - df_2024[col].mean()) / df_2024[col].std()\n",
    "    ) * std_other_years + mean_other_years\n",
    "\n",
    "    # Plot the new distribution\n",
    "    plt.figure(figsize=(10, 5))\n",
    "    plt.hist(df_other_years[col], bins=30, alpha=0.5, label=\"Other Years\")\n",
    "    plt.hist(df[df[\"Year\"] == 2024][col], bins=30, alpha=0.5, label=\"2024 (Rescaled)\")\n",
    "    plt.xlabel(col)\n",
    "    plt.ylabel(\"Frequency\")\n",
    "    plt.title(f\"Rescaled Distribution of {col}\")\n",
    "    plt.legend()\n",
    "    plt.show()\n"
   ]
  },
  {
   "cell_type": "code",
   "execution_count": null,
   "id": "932b43aa-05c9-4ff9-9afa-150dd3459ace",
   "metadata": {},
   "outputs": [],
   "source": [
    "# Invert the corruption scores for 2024\n",
    "df.loc[df[\"Year\"] == 2024, \"Corruption\"] = 1 - df_2024[\"Corruption\"]\n",
    "\n",
    "# Plot the updated corruption score distribution\n",
    "plt.figure(figsize=(10, 5))\n",
    "plt.hist(df_other_years[\"Corruption\"], bins=30, alpha=0.5, label=\"Other Years\")\n",
    "plt.hist(df[df[\"Year\"] == 2024][\"Corruption\"], bins=30, alpha=0.5, label=\"2024 (Inverted)\")\n",
    "plt.xlabel(\"Corruption Score\")\n",
    "plt.ylabel(\"Frequency\")\n",
    "plt.title(\"Inverted Distribution of Corruption Scores (2024)\")\n",
    "plt.legend()\n",
    "plt.show()"
   ]
  },
  {
   "cell_type": "code",
   "execution_count": null,
   "id": "9ddb9b74-2b14-4fa6-89d9-7c215822d643",
   "metadata": {},
   "outputs": [],
   "source": [
    "# Calculate mean and standard deviation for previous years' corruption scores\n",
    "mean_other_years_corruption = df_other_years[\"Corruption\"].mean()\n",
    "std_other_years_corruption = df_other_years[\"Corruption\"].std()\n",
    "\n",
    "# Apply Z-score normalization to 2024 corruption scores\n",
    "df.loc[df[\"Year\"] == 2024, \"Corruption\"] = (\n",
    "    (df[df[\"Year\"] == 2024][\"Corruption\"] - df[df[\"Year\"] == 2024][\"Corruption\"].mean()) / \n",
    "    df[df[\"Year\"] == 2024][\"Corruption\"].std()\n",
    ") * std_other_years_corruption + mean_other_years_corruption\n",
    "\n",
    "# Plot the updated corruption score distribution\n",
    "plt.figure(figsize=(10, 5))\n",
    "plt.hist(df_other_years[\"Corruption\"], bins=30, alpha=0.5, label=\"Other Years\")\n",
    "plt.hist(df[df[\"Year\"] == 2024][\"Corruption\"], bins=30, alpha=0.5, label=\"2024 (Z-score Normalized)\")\n",
    "plt.xlabel(\"Corruption Score\")\n",
    "plt.ylabel(\"Frequency\")\n",
    "plt.title(\"Z-score Normalized Distribution of Corruption Scores (2024)\")\n",
    "plt.legend()\n",
    "plt.show()\n"
   ]
  },
  {
   "cell_type": "code",
   "execution_count": null,
   "id": "cf01b0ad-473d-406a-bc20-ef8dbf5d6c3a",
   "metadata": {},
   "outputs": [],
   "source": [
    "#Checking Denmark (125)\n",
    "df[df['Country_ID'] == 125]"
   ]
  },
  {
   "cell_type": "code",
   "execution_count": null,
   "id": "a41dda19-d4b6-4343-aa40-aa230d41c812",
   "metadata": {},
   "outputs": [],
   "source": [
    "#Saving file with proper coding for SQL\n",
    "df.to_csv(\"../SQL/SQL_data/Happiness_Combined_SQL.csv\", index=False, sep=\";\", encoding=\"utf-8\")"
   ]
  },
  {
   "cell_type": "code",
   "execution_count": null,
   "id": "00da1e0f-e9cb-40ca-8ae4-b4a734db3242",
   "metadata": {},
   "outputs": [],
   "source": [
    "#Saving other files for SQL upload\n",
    "df_js = pd.read_csv(\"../SQL/SQL_data/Job_Satisfaction_SQL.csv\")\n",
    "df_js.to_csv(\"../Data/Clean/SQL_data/Job_Satisfaction_SQL.csv\", index=False, sep=\";\", encoding=\"utf-8\")"
   ]
  },
  {
   "cell_type": "code",
   "execution_count": null,
   "id": "dca1bbf1-0342-47fa-89a8-0c1b187b9711",
   "metadata": {},
   "outputs": [],
   "source": [
    "#Saving other files for SQL upload\n",
    "df_wh = pd.read_csv(\"../SQL/SQL_data/Work_Hours_SQL.csv\")\n",
    "df_wh.to_csv(\"../Data/Clean/SQL_data/Work_Hours_SQL.csv\", index=False, sep=\";\", encoding=\"utf-8\")"
   ]
  },
  {
   "cell_type": "code",
   "execution_count": null,
   "id": "a25b756d-a2ab-4e4d-aa07-c67127fdb66a",
   "metadata": {},
   "outputs": [],
   "source": [
    "#Saving other files for SQL upload\n",
    "df_ct = pd.read_csv(\"../SQL/SQL_data/Country_SQL.csv\")\n",
    "df_ct.to_csv(\"../Data/Clean/SQL_data/Country_SQL.csv\", index=False, sep=\";\", encoding=\"utf-8\")"
   ]
  },
  {
   "cell_type": "code",
   "execution_count": null,
   "id": "368046bd-fe04-498a-b8e7-423c10cf6156",
   "metadata": {},
   "outputs": [],
   "source": []
  }
 ],
 "metadata": {
  "kernelspec": {
   "display_name": ".venv",
   "language": "python",
   "name": ".venv"
  },
  "language_info": {
   "codemirror_mode": {
    "name": "ipython",
    "version": 3
   },
   "file_extension": ".py",
   "mimetype": "text/x-python",
   "name": "python",
   "nbconvert_exporter": "python",
   "pygments_lexer": "ipython3",
   "version": "3.12.2"
  }
 },
 "nbformat": 4,
 "nbformat_minor": 5
}
