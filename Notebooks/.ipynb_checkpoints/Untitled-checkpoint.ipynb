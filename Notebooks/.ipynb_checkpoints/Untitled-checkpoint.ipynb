{
 "cells": [
  {
   "cell_type": "code",
   "execution_count": 5,
   "id": "ed772add-0770-4ba2-905f-34f403ce4ef3",
   "metadata": {},
   "outputs": [],
   "source": [
    "import pandas as pd\n",
    "import numpy as np\n",
    "import seaborn as sns\n",
    "import matplotlib.pyplot as plt"
   ]
  },
  {
   "cell_type": "code",
   "execution_count": null,
   "id": "edf6fef8-271a-42b7-809e-f5f3aac5f856",
   "metadata": {},
   "outputs": [],
   "source": [
    "#import data & add year column for merge later\n",
    "whr_2015 = pd.read_csv('../Raw/dataset2_world_happiness_report/2015.csv')\n",
    "whr_2015['Year'] = 2015\n",
    "\n",
    "whr_2016 = pd.read_csv('../Raw/dataset2_world_happiness_report/2016.csv')\n",
    "whr_2016['Year'] = 2016\n",
    "\n",
    "whr_2017 = pd.read_csv('../Raw/dataset2_world_happiness_report/2017.csv')\n",
    "whr_2017['Year'] = 2017\n",
    "\n",
    "whr_2018 = pd.read_csv('../Raw/dataset2_world_happiness_report/2018.csv')\n",
    "whr_2018['Year'] = 2018\n",
    "\n",
    "whr_2019 = pd.read_csv('../Raw/dataset2_world_happiness_report/2019.csv')  # Fixed file name\n",
    "whr_2019['Year'] = 2019"
   ]
  }
 ],
 "metadata": {
  "kernelspec": {
   "display_name": ".venv",
   "language": "python",
   "name": ".venv"
  },
  "language_info": {
   "codemirror_mode": {
    "name": "ipython",
    "version": 3
   },
   "file_extension": ".py",
   "mimetype": "text/x-python",
   "name": "python",
   "nbconvert_exporter": "python",
   "pygments_lexer": "ipython3",
   "version": "3.12.2"
  }
 },
 "nbformat": 4,
 "nbformat_minor": 5
}
