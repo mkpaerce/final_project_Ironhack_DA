import pandas as pd
import numpy as np
import matplotlib.pyplot as plt
import seaborn as sns

from sklearn.mixture import GaussianMixture


df = pd.read_csv("..Data/Clean/all_data_SQL_Export.csv")



