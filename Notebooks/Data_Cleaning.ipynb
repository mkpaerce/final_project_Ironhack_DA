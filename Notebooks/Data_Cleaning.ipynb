{
 "cells": [
  {
   "cell_type": "code",
   "execution_count": null,
   "id": "ed772add-0770-4ba2-905f-34f403ce4ef3",
   "metadata": {},
   "outputs": [],
   "source": [
    "import pandas as pd\n",
    "import numpy as np\n",
    "import seaborn as sns\n",
    "import matplotlib.pyplot as plt"
   ]
  },
  {
   "cell_type": "markdown",
   "id": "05c2846d-c153-4714-88df-a0a9d87b6652",
   "metadata": {},
   "source": [
    "## 1. Cleaning World Happiness Report Data"
   ]
  },
  {
   "cell_type": "code",
   "execution_count": null,
   "id": "edf6fef8-271a-42b7-809e-f5f3aac5f856",
   "metadata": {},
   "outputs": [],
   "source": [
    "#import data\n",
    "\n",
    "whr_2024 = pd.read_csv(\"../Data/Raw/World-happiness-report-2024.csv\")\n",
    "\n",
    "whr_all = pd.read_csv(\"../Data/Raw/World-happiness-report-updated_2024.csv\", encoding=\"latin1\")  # or encoding=\"ISO-8859-1\""
   ]
  },
  {
   "cell_type": "code",
   "execution_count": null,
   "id": "8a73d92b-47b3-4ea3-bd80-b0c7f57f1bd7",
   "metadata": {},
   "outputs": [],
   "source": [
    "whr_all.head()"
   ]
  },
  {
   "cell_type": "code",
   "execution_count": null,
   "id": "96832230-df83-4a48-974e-4af0cff06050",
   "metadata": {},
   "outputs": [],
   "source": [
    "whr_all.info()"
   ]
  },
  {
   "cell_type": "code",
   "execution_count": null,
   "id": "cc35b219-6343-422c-96c6-5e44ddc5cd2c",
   "metadata": {},
   "outputs": [],
   "source": [
    "#check for missing values\n",
    "whr_all.isnull().sum()"
   ]
  },
  {
   "cell_type": "code",
   "execution_count": null,
   "id": "32fb2212-0a52-47f9-98b0-4819c7ed1f96",
   "metadata": {},
   "outputs": [],
   "source": [
    "# Select numeric columns\n",
    "numeric_cols = whr_all.select_dtypes(include=np.number).columns"
   ]
  },
  {
   "cell_type": "code",
   "execution_count": null,
   "id": "895fe4a0-da0d-4d4a-8e42-5ab19ed0cbbd",
   "metadata": {},
   "outputs": [],
   "source": [
    "# Fill NaN values in numeric columns with column means \n",
    "whr_all[numeric_cols] = whr_all[numeric_cols].fillna(whr_all[numeric_cols].mean())"
   ]
  },
  {
   "cell_type": "code",
   "execution_count": null,
   "id": "00b6061b-3d5e-441e-af8f-7c6e9deb15ab",
   "metadata": {},
   "outputs": [],
   "source": [
    "whr_2024.head()"
   ]
  },
  {
   "cell_type": "code",
   "execution_count": null,
   "id": "4c596156-bb37-4fe6-9ee0-18b0a1c25701",
   "metadata": {},
   "outputs": [],
   "source": [
    "whr_2024.info()"
   ]
  },
  {
   "cell_type": "code",
   "execution_count": null,
   "id": "c0da5bce-164b-46b2-af65-892e0057525d",
   "metadata": {},
   "outputs": [],
   "source": [
    "#check for missing values\n",
    "whr_2024.isnull().sum()"
   ]
  },
  {
   "cell_type": "code",
   "execution_count": null,
   "id": "2f0efe5e-f6cc-4857-949c-15446b3ce89c",
   "metadata": {},
   "outputs": [],
   "source": [
    "# Select numeric columns & replace missing values with mean of column for numeric col\n",
    "numeric_cols = whr_2024.select_dtypes(include=np.number).columns\n",
    "whr_2024[numeric_cols] = whr_2024[numeric_cols].fillna(whr_2024[numeric_cols].mean())"
   ]
  },
  {
   "cell_type": "code",
   "execution_count": null,
   "id": "7cacd4a9-3e68-49e5-85be-7865782a02f3",
   "metadata": {},
   "outputs": [],
   "source": [
    "#add year column\n",
    "whr_2024['year'] = 2024"
   ]
  },
  {
   "cell_type": "code",
   "execution_count": null,
   "id": "e577a9ff-5f47-4fc5-a396-6bd3288d6b5f",
   "metadata": {},
   "outputs": [],
   "source": [
    "#rename columns - remove spaces\n",
    "whr_2024.rename(columns={\n",
    "    \"Country name\":\"Country\",\n",
    "    \"Regional indicator\":\"Region\",\n",
    "    \"Ladder score\":\"Happiness\",\n",
    "    \"Log GDP per capita\": \"Log_GDP_Per_Capita\",\n",
    "    \"Social support\": \"Social_Support\",\n",
    "    \"Healthy life expectancy\": \"Life_Expectancy\",\n",
    "    \"Freedom to make life choices\": \"Freedom\",\n",
    "    \"Perceptions of corruption\": \"Corruption\",\n",
    "    \"Dystopia + residual\": \"Dystopia_residual\",\n",
    "    \"year\": \"Year\"\n",
    "}, inplace=True)"
   ]
  },
  {
   "cell_type": "code",
   "execution_count": null,
   "id": "a9185681-bb53-47d6-824c-ffbd22a7906f",
   "metadata": {},
   "outputs": [],
   "source": [
    "whr_all.rename(columns={\n",
    "    \"Country name\":\"Country\",\n",
    "    \"Regional indicator\":\"Region\",\n",
    "    \"Life Ladder\":\"Happiness\",\n",
    "    \"Log GDP per capita\": \"Log_GDP_Per_Capita\",\n",
    "    \"Social support\": \"Social_Support\",\n",
    "    \"Healthy life expectancy at birth\": \"Life_Expectancy\",\n",
    "    \"Freedom to make life choices\": \"Freedom\",\n",
    "    \"Perceptions of corruption\": \"Corruption\",\n",
    "    \"Dystopia + residual\": \"Dystopia_Residual\",\n",
    "    \"year\": \"Year\",\n",
    "    \"Positive affect\" : \"Positive_Affect\",\n",
    "    \"Negative affect\":\"Negative_Affect\"\n",
    "}, inplace=True)"
   ]
  },
  {
   "cell_type": "code",
   "execution_count": null,
   "id": "503fe57e-650b-4ade-a672-d723f88bc9f6",
   "metadata": {},
   "outputs": [],
   "source": [
    "#check for differences in country names\n",
    "\n",
    "set1 = set(whr_all['Country'])\n",
    "set2 = set(whr_2024['Country'])\n",
    "\n",
    "if set1 == set2:\n",
    "    print(\"Both DataFrames have the same country names.\")\n",
    "else:\n",
    "    print(\"Differences found:\")\n",
    "    print(\"Only in whr_all:\", set1 - set2)\n",
    "    print(\"Only in whr_2024:\", set2 - set1)\n"
   ]
  },
  {
   "cell_type": "code",
   "execution_count": null,
   "id": "747d9dbd-e6cb-43e5-9a66-a3918a855bef",
   "metadata": {},
   "outputs": [],
   "source": [
    "# Replace 'Türkiye' with 'Turkiye'\n",
    "whr_all['Country'] = whr_all['Country'].replace('Türkiye', 'Turkiye')\n"
   ]
  },
  {
   "cell_type": "code",
   "execution_count": null,
   "id": "95df8af5-2f75-4c48-9cde-6ee747d547ef",
   "metadata": {},
   "outputs": [],
   "source": [
    "whr_all.to_csv(\"../Data/Clean/whr_hist_clean.csv\")\n",
    "whr_2024.to_csv(\"../Data/Clean/whr_2024_clean.csv\")"
   ]
  },
  {
   "cell_type": "markdown",
   "id": "76c3be24-a4e8-43d5-9a0f-38a547e215a1",
   "metadata": {},
   "source": [
    "## 2. Cleaning Avg Working Hours Data"
   ]
  },
  {
   "cell_type": "code",
   "execution_count": null,
   "id": "69fec1e2-3f56-418c-9153-bd4932c7196c",
   "metadata": {},
   "outputs": [],
   "source": [
    "awh = pd.read_csv(\"../Data/Raw/dataset1_avg_annual_hours_worked.csv\")"
   ]
  },
  {
   "cell_type": "code",
   "execution_count": null,
   "id": "5041800f-241a-4f80-bcdb-e553d7e00100",
   "metadata": {},
   "outputs": [],
   "source": [
    "awh.head()"
   ]
  },
  {
   "cell_type": "code",
   "execution_count": null,
   "id": "5050e303-1d08-40ac-aa1c-4e5562df6ad8",
   "metadata": {},
   "outputs": [],
   "source": [
    "awh.info()"
   ]
  },
  {
   "cell_type": "code",
   "execution_count": null,
   "id": "086f0107-9699-4496-99a8-1e3c99c49770",
   "metadata": {},
   "outputs": [],
   "source": [
    "#removing white spaces\n",
    "awh.columns = awh.columns.str.replace(' ','_')"
   ]
  },
  {
   "cell_type": "code",
   "execution_count": null,
   "id": "5bb35e10-941f-4f9a-ad3a-8b27377fe479",
   "metadata": {},
   "outputs": [],
   "source": [
    "#removing unwanted columns\n",
    "keep_cols = ['Reference_area', 'TIME_PERIOD','OBS_VALUE']\n",
    "\n",
    "awh = awh.loc[:, keep_cols]"
   ]
  },
  {
   "cell_type": "code",
   "execution_count": null,
   "id": "95a5963f-e342-44de-8d03-868536c7fcda",
   "metadata": {},
   "outputs": [],
   "source": [
    "# Rename the columns\n",
    "awh = awh.rename(columns={'Reference_area': 'Country', 'OBS_VALUE': 'Average_hours_worked', 'TIME_PERIOD': 'Year'})"
   ]
  },
  {
   "cell_type": "code",
   "execution_count": null,
   "id": "5c457337-d224-4fe3-a9ae-62d89c0b937e",
   "metadata": {},
   "outputs": [],
   "source": [
    "#check for missing values\n",
    "awh.isnull().sum()"
   ]
  },
  {
   "cell_type": "code",
   "execution_count": null,
   "id": "99625606-e1f9-483e-81e5-74c14a08e0ee",
   "metadata": {},
   "outputs": [],
   "source": [
    "awh['Year'].unique()"
   ]
  },
  {
   "cell_type": "code",
   "execution_count": null,
   "id": "626159b7-b0a5-4256-97a8-e83f68f0322e",
   "metadata": {},
   "outputs": [],
   "source": [
    "#check for differences in country names\n",
    "\n",
    "set1 = set(awh['Country'])\n",
    "set2 = set(whr_2024['Country'])\n",
    "\n",
    "if set1 == set2:\n",
    "    print(\"Both DataFrames have the same country names.\")\n",
    "else:\n",
    "    print(\"Differences found:\")\n",
    "    print(\"Only in awh:\", set1 - set2)\n",
    "    print(\"Only in whr_2024:\", set2 - set1)"
   ]
  },
  {
   "cell_type": "code",
   "execution_count": null,
   "id": "3fcc2a81-dc0e-442d-934e-3e8e68269071",
   "metadata": {},
   "outputs": [],
   "source": [
    "#Update country names to match\n",
    "awh['Country'] = awh['Country'].str.strip().replace({\n",
    "    'Türkiye': 'Turkiye',\n",
    "    'Korea': 'South Korea',\n",
    "    'Slovak Republic': 'Slovakia'\n",
    "})"
   ]
  },
  {
   "cell_type": "code",
   "execution_count": null,
   "id": "11a31722-0f84-4ea1-bf24-bd5f9cbd4049",
   "metadata": {},
   "outputs": [],
   "source": [
    "awh.to_csv(\"../Data/Clean/avg_working_hours_clean.csv\")"
   ]
  },
  {
   "cell_type": "markdown",
   "id": "99c1c56d-a6ea-40cb-9077-73216e8fbd56",
   "metadata": {},
   "source": [
    "## 3. Cleaning Employee Engagement"
   ]
  },
  {
   "cell_type": "code",
   "execution_count": null,
   "id": "2098ed3a-38d3-44a6-849a-46d1c22dce11",
   "metadata": {},
   "outputs": [],
   "source": [
    "import pdfplumber\n",
    "\n",
    "# Path to the uploaded PDF file\n",
    "pdf_path = \"../Data/Raw/State of the Global Workplace_ 2024 Report.pdf\"\n",
    "\n",
    "# Extract tables from the PDF\n",
    "tables = []\n",
    "with pdfplumber.open(pdf_path) as pdf:\n",
    "    for page in pdf.pages:\n",
    "        extracted_tables = page.extract_tables()\n",
    "        for table in extracted_tables:\n",
    "            tables.append(table)\n",
    "\n",
    "# Convert extracted tables into DataFrame format\n",
    "dataframes = []\n",
    "for table in tables:\n",
    "    df = pd.DataFrame(table)\n",
    "    dataframes.append(df)\n",
    "\n",
    "# Concatenate all tables into a single DataFrame\n",
    "final_df = pd.concat(dataframes, ignore_index=True)\n",
    "\n",
    "# Save as CSV\n",
    "csv_path = \"../Data/Raw/Employee_Engagement_Extracted\"\n",
    "final_df.to_csv(csv_path, index=False)\n",
    "\n",
    "# Provide the CSV file for download\n",
    "csv_path"
   ]
  },
  {
   "cell_type": "code",
   "execution_count": null,
   "id": "038b576a-a6ae-4d3c-91ae-a064e70d3bff",
   "metadata": {},
   "outputs": [],
   "source": [
    "job_satisfaction = pd.read_csv(\"../Data/Raw/Employee_Engagement_Merged.csv\")"
   ]
  },
  {
   "cell_type": "code",
   "execution_count": null,
   "id": "78e86c90-c52c-49c7-8bc8-8f0a5287a201",
   "metadata": {},
   "outputs": [],
   "source": [
    "job_satisfaction.head()"
   ]
  },
  {
   "cell_type": "code",
   "execution_count": null,
   "id": "45486a11-35ad-4ce9-8c7b-67f26a504198",
   "metadata": {},
   "outputs": [],
   "source": [
    "#check for missing values\n",
    "job_satisfaction.isnull().sum()"
   ]
  },
  {
   "cell_type": "code",
   "execution_count": null,
   "id": "c777eeb8-2660-4732-9a72-b1a6e83916ef",
   "metadata": {},
   "outputs": [],
   "source": [
    "#check for differences in country names\n",
    "\n",
    "set1 = set(job_satisfaction['Country'])\n",
    "set2 = set(whr_2024['Country'])\n",
    "\n",
    "if set1 == set2:\n",
    "    print(\"Both DataFrames have the same country names.\")\n",
    "else:\n",
    "    print(\"Differences found:\")\n",
    "    print(\"Only in job_satisfaction:\", set1 - set2)\n",
    "    print(\"Only in whr_2024:\", set2 - set1)"
   ]
  },
  {
   "cell_type": "code",
   "execution_count": null,
   "id": "d497c16f-1bc6-4f37-8ceb-5a91080cc707",
   "metadata": {},
   "outputs": [],
   "source": [
    "#Update country names to match\n",
    "job_satisfaction['Country'] = job_satisfaction['Country'].str.strip().replace({\n",
    "    'Russian Federation': 'Russia',\n",
    "    'Hong Kong SAR of China': 'Hong Kong S.A.R. of China',\n",
    "    'Czech Republic': 'Czechia',\n",
    "    'Republic of Moldova': 'Moldova',\n",
    "    'Republic of the Congo' : 'Congo (Brazzaville)'\n",
    "})"
   ]
  },
  {
   "cell_type": "code",
   "execution_count": null,
   "id": "c2e4bdce-544f-43b4-81d7-14ae87a62f6f",
   "metadata": {},
   "outputs": [],
   "source": [
    "#remove duplicate misspelling\n",
    "job_satisfaction = job_satisfaction[job_satisfaction['Country'] != 'Cambonia']"
   ]
  },
  {
   "cell_type": "code",
   "execution_count": null,
   "id": "552abc8f-8c65-41c5-b2af-e55f491a6668",
   "metadata": {},
   "outputs": [],
   "source": [
    "job_satisfaction.to_csv(\"../Data/Clean/job_satisfaction_clean.csv\")"
   ]
  },
  {
   "cell_type": "code",
   "execution_count": null,
   "id": "1b965e71-2bfd-4341-9879-c7d7c8b26c09",
   "metadata": {},
   "outputs": [],
   "source": []
  }
 ],
 "metadata": {
  "kernelspec": {
   "display_name": ".venv",
   "language": "python",
   "name": ".venv"
  },
  "language_info": {
   "codemirror_mode": {
    "name": "ipython",
    "version": 3
   },
   "file_extension": ".py",
   "mimetype": "text/x-python",
   "name": "python",
   "nbconvert_exporter": "python",
   "pygments_lexer": "ipython3",
   "version": "3.12.2"
  }
 },
 "nbformat": 4,
 "nbformat_minor": 5
}
